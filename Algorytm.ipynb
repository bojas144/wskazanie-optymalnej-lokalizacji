{
 "cells": [
  {
   "cell_type": "code",
   "execution_count": 1,
   "metadata": {},
   "outputs": [],
   "source": [
    "import sys\n",
    "import arcpy\n",
    "from arcpy.sa import *\n",
    "from arcpy.ia import *\n",
    "import os"
   ]
  },
  {
   "cell_type": "code",
   "execution_count": 2,
   "metadata": {},
   "outputs": [],
   "source": [
    "# nadpisywanie plików (domyślnie false)\n",
    "arcpy.env.overwriteOutput=True"
   ]
  },
  {
   "cell_type": "code",
   "execution_count": 3,
   "metadata": {},
   "outputs": [
    {
     "data": {
      "text/plain": [
       "'CheckedOut'"
      ]
     },
     "execution_count": 3,
     "metadata": {},
     "output_type": "execute_result"
    }
   ],
   "source": [
    "arcpy.CheckOutExtension(\"Spatial\")\n",
    "arcpy.CheckOutExtension(\"3D\")"
   ]
  },
  {
   "cell_type": "code",
   "execution_count": 4,
   "metadata": {},
   "outputs": [],
   "source": [
    "arcpy.workspace = r'F:\\studia\\analizy\\MyProject\\MyProject.gdb'\n",
    "arcpy.env.extent = r'F:\\studia\\analizy\\MyProject\\dane_kontrolne\\rastry\\nmt_lpis_plesna_1992.tif'\n",
    "arcpy.env.outputCoordinateSystem = arcpy.SpatialReference(\"ETRS_1989_Poland_CS92\")\n",
    "arcpy.env.cellSize = 1"
   ]
  },
  {
   "cell_type": "code",
   "execution_count": 5,
   "metadata": {},
   "outputs": [],
   "source": [
    "bubd_a = r'dane_kontrolne/bdot/BUBD_A.shp'\n",
    "buffor = r'dane_kontrolne/bufor/bufor_adm_100.shp'\n",
    "skdr_l = r'dane_kontrolne/bdot/SKDR_L.shp'\n",
    "ptwp_a = r'dane_kontrolne/bdot/PTWP_A.shp'\n",
    "swrs_l = r'dane_kontrolne/bdot/SWRS_L.shp'\n",
    "ptlz_a = r'dane_kontrolne/bdot/PTLZ_A.shp'\n",
    "gasPipeline = r'dane_kontrolne/gaz/gazociag.shp'\n",
    "ground = r'dane_kontrolne/gleby/mapa_25000_Plesna.shp'\n",
    "nmt = r'dane_kontrolne/rastry/nmt_lpis_plesna_1992.tif'\n",
    "dzialki = r'dane_kontrolne/dzialki/dzialki.shp'"
   ]
  },
  {
   "cell_type": "markdown",
   "metadata": {
    "heading_collapsed": true
   },
   "source": [
    "# Wydzielenie warstw z bdot10k"
   ]
  },
  {
   "cell_type": "code",
   "execution_count": 25,
   "metadata": {
    "hidden": true
   },
   "outputs": [
    {
     "data": {
      "text/html": [
       "<div class='gpresult'><h2>Messages</h2><div id='messages' data-messages='[\"Start Time: niedziela, 15 stycznia 2023 16:44:05\",\"Succeeded at niedziela, 15 stycznia 2023 16:44:05 (Elapsed Time: 0,52 seconds)\"]' data-show='true'><div id = 'default' /></div></div>"
      ],
      "text/plain": [
       "<Result 'F:\\\\studia\\\\analizy\\\\MyProject\\\\MyProject.gdb\\\\hotele'>"
      ]
     },
     "execution_count": 25,
     "metadata": {},
     "output_type": "execute_result"
    }
   ],
   "source": [
    "# hotele\n",
    "hotels = arcpy.management.SelectLayerByAttribute(bubd_a, \"NEW_SELECTION\", \"X_KOD LIKE 'BUBD05' OR X_KOD LIKE 'BUBD06'\", None)\n",
    "arcpy.conversion.ExportFeatures(hotels, \"hotele\")"
   ]
  },
  {
   "cell_type": "code",
   "execution_count": 35,
   "metadata": {
    "hidden": true
   },
   "outputs": [
    {
     "data": {
      "text/html": [
       "<div class='gpresult'><h2>Messages</h2><div id='messages' data-messages='[\"Start Time: niedziela, 15 stycznia 2023 16:49:18\",\"Succeeded at niedziela, 15 stycznia 2023 16:49:20 (Elapsed Time: 1,35 seconds)\"]' data-show='true'><div id = 'default' /></div></div>"
      ],
      "text/plain": [
       "<Result 'F:\\\\studia\\\\analizy\\\\MyProject\\\\MyProject.gdb\\\\budynkiMieszkalne'>"
      ]
     },
     "execution_count": 35,
     "metadata": {},
     "output_type": "execute_result"
    }
   ],
   "source": [
    "# budynki mieszkalne\n",
    "expression = \"X_KOD LIKE 'BUBD01' OR X_KOD LIKE 'BUBD02' OR X_KOD LIKE 'BUBD03' OR X_KOD LIKE 'BUBD04'\"\n",
    "buildings = arcpy.management.SelectLayerByAttribute(bubd_a, \"NEW_SELECTION\", expression, None)\n",
    "arcpy.conversion.ExportFeatures(buildings, \"budynkiMieszkalne\")"
   ]
  },
  {
   "cell_type": "code",
   "execution_count": 36,
   "metadata": {
    "hidden": true
   },
   "outputs": [
    {
     "data": {
      "text/html": [
       "<div class='gpresult'><h2>Messages</h2><div id='messages' data-messages='[\"Start Time: niedziela, 15 stycznia 2023 16:49:48\",\"Succeeded at niedziela, 15 stycznia 2023 16:49:49 (Elapsed Time: 1,16 seconds)\"]' data-show='true'><div id = 'default' /></div></div>"
      ],
      "text/plain": [
       "<Result 'F:\\\\studia\\\\analizy\\\\MyProject\\\\MyProject.gdb\\\\drogi'>"
      ]
     },
     "execution_count": 36,
     "metadata": {},
     "output_type": "execute_result"
    }
   ],
   "source": [
    "# drogi\n",
    "roads = arcpy.management.SelectLayerByAttribute(skdr_l, \"NEW_SELECTION\", \"X_KOD LIKE 'SKDR%'\", None)\n",
    "arcpy.conversion.ExportFeatures(roads, \"drogi\")"
   ]
  },
  {
   "cell_type": "code",
   "execution_count": 37,
   "metadata": {
    "hidden": true
   },
   "outputs": [
    {
     "data": {
      "text/html": [
       "<div class='gpresult'><h2>Messages</h2><div id='messages' data-messages='[\"Start Time: niedziela, 15 stycznia 2023 16:49:52\",\"Succeeded at niedziela, 15 stycznia 2023 16:49:53 (Elapsed Time: 0,69 seconds)\"]' data-show='true'><div id = 'default' /></div></div>"
      ],
      "text/plain": [
       "<Result 'F:\\\\studia\\\\analizy\\\\MyProject\\\\MyProject.gdb\\\\jeziora'>"
      ]
     },
     "execution_count": 37,
     "metadata": {},
     "output_type": "execute_result"
    }
   ],
   "source": [
    "# jeziora\n",
    "lakes = arcpy.management.SelectLayerByAttribute(ptwp_a, \"NEW_SELECTION\", \"X_KOD LIKE 'PTWP02' OR X_KOD LIKE 'PTWP03'\", None)\n",
    "arcpy.conversion.ExportFeatures(lakes, \"jeziora\")"
   ]
  },
  {
   "cell_type": "code",
   "execution_count": 38,
   "metadata": {
    "hidden": true
   },
   "outputs": [
    {
     "data": {
      "text/html": [
       "<div class='gpresult'><h2>Messages</h2><div id='messages' data-messages='[\"Start Time: niedziela, 15 stycznia 2023 16:49:55\",\"Succeeded at niedziela, 15 stycznia 2023 16:49:56 (Elapsed Time: 0,82 seconds)\"]' data-show='true'><div id = 'default' /></div></div>"
      ],
      "text/plain": [
       "<Result 'F:\\\\studia\\\\analizy\\\\MyProject\\\\MyProject.gdb\\\\rzeki'>"
      ]
     },
     "execution_count": 38,
     "metadata": {},
     "output_type": "execute_result"
    }
   ],
   "source": [
    "# rzeki\n",
    "rivers = arcpy.management.SelectLayerByAttribute(swrs_l, \"NEW_SELECTION\", \"X_KOD LIKE 'SWRS%'\", None)\n",
    "arcpy.conversion.ExportFeatures(rivers, \"rzeki\")"
   ]
  },
  {
   "cell_type": "code",
   "execution_count": 39,
   "metadata": {
    "hidden": true
   },
   "outputs": [
    {
     "data": {
      "text/html": [
       "<div class='gpresult'><h2>Messages</h2><div id='messages' data-messages='[\"Start Time: niedziela, 15 stycznia 2023 16:50:01\",\"Succeeded at niedziela, 15 stycznia 2023 16:50:02 (Elapsed Time: 0,81 seconds)\"]' data-show='true'><div id = 'default' /></div></div>"
      ],
      "text/plain": [
       "<Result 'F:\\\\studia\\\\analizy\\\\MyProject\\\\MyProject.gdb\\\\lasy'>"
      ]
     },
     "execution_count": 39,
     "metadata": {},
     "output_type": "execute_result"
    }
   ],
   "source": [
    "# las\n",
    "forest = arcpy.management.SelectLayerByAttribute(ptlz_a, \"NEW_SELECTION\", \"X_KOD LIKE 'PTLZ01'\", None)\n",
    "arcpy.conversion.ExportFeatures(forest, \"lasy\")"
   ]
  },
  {
   "cell_type": "markdown",
   "metadata": {
    "heading_collapsed": true
   },
   "source": [
    "# Definicje funkcji"
   ]
  },
  {
   "cell_type": "code",
   "execution_count": 31,
   "metadata": {
    "hidden": true
   },
   "outputs": [],
   "source": [
    "def distCriterion(layer, mask, a, b, c=None, d=None, linear=None):\n",
    "    distMap = EucDistance(layer)\n",
    "    extractedDistMap = ExtractByMask(distMap, mask, 'INSIDE')\n",
    "    if linear == \"UP\":\n",
    "        \"\"\"\n",
    "             b---\n",
    "            /\n",
    "        ___a \n",
    "        \"\"\"\n",
    "        raster = FuzzyMembership(extractedDistMap, FuzzyLinear(a, b))\n",
    "        return raster\n",
    "    elif linear == \"DOWN\":\n",
    "        \"\"\"\n",
    "        ---a\n",
    "            \\\n",
    "             b___\n",
    "        \"\"\"\n",
    "        raster = FuzzyMembership(extractedDistMap, FuzzyLinear(b, a))\n",
    "        return raster\n",
    "    else:\n",
    "        \"\"\"\n",
    "             b---c\n",
    "            /     \\\n",
    "        ___a       d___\n",
    "        \"\"\"\n",
    "        rasterAB = FuzzyMembership(extractedDistMap, FuzzyLinear(a, b))\n",
    "        rasterCD = FuzzyMembership(extractedDistMap, FuzzyLinear(d, c))\n",
    "        raster = Merge([rasterAB, rasterCD], 'MIN')\n",
    "        return raster"
   ]
  },
  {
   "cell_type": "code",
   "execution_count": 32,
   "metadata": {
    "hidden": true
   },
   "outputs": [],
   "source": [
    "def slopeRaster(inRaster, mask):\n",
    "    extractedRaster = ExtractByMask(inRaster, mask, 'INSIDE')\n",
    "    slopeRaster = Slope(extractedRaster, \"PERCENT_RISE\")\n",
    "    outRaster = FuzzyMembership(slopeRaster, FuzzyLinear(20, 15))\n",
    "    return outRaster"
   ]
  },
  {
   "cell_type": "code",
   "execution_count": 33,
   "metadata": {
    "hidden": true
   },
   "outputs": [],
   "source": [
    "def aspectRaster(inRaster, mask):\n",
    "    extractedRaster = ExtractByMask(inRaster, mask, 'INSIDE')\n",
    "    outAspect = Aspect(extractedRaster)\n",
    "    rasterAB = FuzzyMembership(outAspect, FuzzyLinear(135, 150))\n",
    "    rasterCD = FuzzyMembership(outAspect, FuzzyLinear(225, 210))\n",
    "    outRaster = Merge([rasterAB, rasterCD], 'MIN')\n",
    "    return outRaster"
   ]
  },
  {
   "cell_type": "markdown",
   "metadata": {},
   "source": [
    "# Kryteria 1-9"
   ]
  },
  {
   "cell_type": "code",
   "execution_count": 34,
   "metadata": {},
   "outputs": [],
   "source": [
    "# hotele\n",
    "hotele_400 = distCriterion(\"hotele\", buffor, 400, 600, linear=\"UP\")\n",
    "hotele_400.save('hotele_output')"
   ]
  },
  {
   "cell_type": "code",
   "execution_count": 40,
   "metadata": {},
   "outputs": [],
   "source": [
    "# budynki mieszkalne\n",
    "mieszkalne_25_50_125_150 = distCriterion(\"budynkiMieszkalne\", buffor, 25, 50, 125, 150)\n",
    "mieszkalne_25_50_125_150.save('budynkiMieszkalne_output')"
   ]
  },
  {
   "cell_type": "code",
   "execution_count": 41,
   "metadata": {},
   "outputs": [],
   "source": [
    "# drogi\n",
    "drogi_15_25_90_100 = distCriterion(\"drogi\", buffor, 15, 25, 90, 100)\n",
    "drogi_15_25_90_100.save('drogi_output')"
   ]
  },
  {
   "cell_type": "code",
   "execution_count": 42,
   "metadata": {},
   "outputs": [],
   "source": [
    "# jeziora rozmyte\n",
    "lakes_20_200_300 = distCriterion(\"jeziora\", buffor, 20, 20.1, 200, 300)\n",
    "lakes_20_200_300.save('jezioraRozmyte_output')"
   ]
  },
  {
   "cell_type": "code",
   "execution_count": 43,
   "metadata": {},
   "outputs": [],
   "source": [
    "# jeziora ostre\n",
    "lakes_20 = distCriterion(\"jeziora\", buffor, 20, 20.1, linear=\"UP\")\n",
    "lakes_20.save('jezioraOstre_output')"
   ]
  },
  {
   "cell_type": "code",
   "execution_count": 44,
   "metadata": {},
   "outputs": [],
   "source": [
    "# rzeki rozmyte\n",
    "rivers_20_200_300 = distCriterion(\"rzeki\", buffor, 20, 20.1, 200, 300)\n",
    "rivers_20_200_300.save('rzekiRozmyte_output')"
   ]
  },
  {
   "cell_type": "code",
   "execution_count": 45,
   "metadata": {},
   "outputs": [],
   "source": [
    "# rzeki ostre\n",
    "rivers_20 = distCriterion(\"rzeki\", buffor, 20, 20.1, linear=\"UP\")\n",
    "rivers_20.save('rzekiOstre_output')"
   ]
  },
  {
   "cell_type": "code",
   "execution_count": 46,
   "metadata": {},
   "outputs": [],
   "source": [
    "# las\n",
    "forest_raster = distCriterion(\"lasy\", buffor, 0, 0.1, linear=\"UP\")\n",
    "forest_raster.save('lasy_output')"
   ]
  },
  {
   "cell_type": "code",
   "execution_count": 47,
   "metadata": {},
   "outputs": [],
   "source": [
    "# gazociąg ostry\n",
    "gasPipeline_25 = distCriterion(gasPipeline, buffor, 25, 25.1, linear=\"UP\")\n",
    "gasPipeline_25.save(\"gazociagOstry_output\")"
   ]
  },
  {
   "cell_type": "code",
   "execution_count": 48,
   "metadata": {},
   "outputs": [],
   "source": [
    "# gazociag rozmyty\n",
    "gasPipeline_25_200 = distCriterion(gasPipeline, buffor, 25, 200, linear=\"UP\")\n",
    "gasPipeline_25_200.save(\"gazociagRozmyty_output\")"
   ]
  },
  {
   "cell_type": "code",
   "execution_count": 49,
   "metadata": {},
   "outputs": [],
   "source": [
    "# nachylenie\n",
    "nmt_slope = slopeRaster(nmt, buffor)\n",
    "nmt_slope.save('nmtSlope_output')"
   ]
  },
  {
   "cell_type": "code",
   "execution_count": 50,
   "metadata": {},
   "outputs": [],
   "source": [
    "# nasłonecznienie\n",
    "nmt_aspect = aspectRaster(nmt, buffor)\n",
    "nmt_aspect.save('nmtAspect_output')"
   ]
  },
  {
   "cell_type": "code",
   "execution_count": 67,
   "metadata": {},
   "outputs": [],
   "source": [
    "# gleba\n",
    "groundQuery = \"TYP NOT LIKE 'F' AND TYP NOT LIKE 'G' AND TYP NOT LIKE 'E' AND TYP NOT LIKE 'M' AND TYP NOT LIKE 'T' AND TYP NOT LIKE 'Fb' AND TYP NOT LIKE 'Fc' AND TYP NOT LIKE 'FG'\"\n",
    "newGround = arcpy.management.SelectLayerByAttribute(ground, \"NEW_SELECTION\", groundQuery, None)\n",
    "ground_raster = distCriterion(newGround, buffor, 0, 0.1, linear=\"DOWN\")\n",
    "ground_raster.save(\"gleba_output\")"
   ]
  },
  {
   "cell_type": "code",
   "execution_count": 54,
   "metadata": {},
   "outputs": [],
   "source": [
    "# mapa kosztów\n",
    "path = r'F:\\studia\\analizy\\MyProject\\dane_kontrolne/pokrycieTerenu'\n",
    "layersList = os.listdir(path)\n",
    "layers = []\n",
    "for x in layersList:\n",
    "    if x[-3:] == 'shp':\n",
    "        layers.append(x[:-4])\n",
    "\n",
    "pokrycie = arcpy.management.Merge(layers)\n",
    "\n",
    "fieldname = \"koszt\"\n",
    "expression = \"setValue(!X_KOD!)\"\n",
    "codeblock = \"\"\"\n",
    "def setValue(kod):\n",
    "    if kod in ['PTWP02','PTZB01','PTZB03','PTZB04','PTKM02']:\n",
    "        return 200\n",
    "    elif kod in ['PTNZ01','PTNZ02']:\n",
    "        return 150\n",
    "    elif kod in ['PTZB02','PTLZ01','PTUT03','PTKM01']:\n",
    "        return 100\n",
    "    elif kod == 'PTUT02':\n",
    "        return 90\n",
    "    elif kod in ['PTZB05','PTLZ02','PTLZ03','PTPL01']:\n",
    "        return 50\n",
    "    elif kod in ['PTUT04','PTUT05','PTUT01']:\n",
    "        return 20\n",
    "    elif kod in ['PTRK','PTRK02']:\n",
    "        return 15\n",
    "    elif kod in ['PTTR02','PTGN01','PTGN02','PTGN03','PTGN04']:\n",
    "        return 1\n",
    "    else:\n",
    "        return 0\n",
    "\"\"\"\n",
    "arcpy.management.AddField(pokrycie, fieldname, \"LONG\")\n",
    "arcpy.management.CalculateField(pokrycie, fieldname, expression, \"PYTHON3\", codeblock)\n",
    "raster = arcpy.conversion.FeatureToRaster(pokrycie, \"koszt\")\n",
    "extracted = ExtractByMask(raster, buffor, 'INSIDE')\n",
    "extracted.save('mapa_kosztow')"
   ]
  },
  {
   "cell_type": "markdown",
   "metadata": {
    "heading_collapsed": true
   },
   "source": [
    "# Łączenie"
   ]
  },
  {
   "cell_type": "code",
   "execution_count": 68,
   "metadata": {
    "hidden": true
   },
   "outputs": [],
   "source": [
    "# rozmyte z wagami\n",
    "rozmyteList1 = [['hotele_output', 'VALUE', 0.3], ['drogi_output', \"VALUE\", 0.2], ['budynkiMieszkalne_output', \"VALUE\", 0.1],\n",
    "              ['jezioraRozmyte_output', \"VALUE\", 0.1], ['rzekiRozmyte_output', \"VALUE\", 0.1], ['nmtAspect_output', 'VALUE', 0.05],\n",
    "              ['nmtSlope_output', \"VALUE\", 0.05], ['gazociagRozmyty_output', \"VALUE\", 0.1]]\n",
    "rozmyte1 = WeightedSum(WSTable(rozmyteList1))\n",
    "ostre1 = FuzzyOverlay([\"lasy_output\", \"rzekiOstre_output\", \"jezioraOstre_output\", \"gazociagOstry_output\", \"gleba_output\"], \"AND\")\n",
    "wynik1 = arcpy.ia.RasterCalculator([rozmyte1, ostre1], [\"x\", \"y\"], \"x*y\")\n",
    "wynik1.save('wynik_z_roznymi_wagami')"
   ]
  },
  {
   "cell_type": "code",
   "execution_count": 69,
   "metadata": {
    "hidden": true
   },
   "outputs": [],
   "source": [
    "# rozmyte bez wag\n",
    "rozmyteList2 = [['hotele_output', 'VALUE', 0.125], ['drogi_output', \"VALUE\", 0.125], ['budynkiMieszkalne_output', \"VALUE\", 0.125],\n",
    "              ['jezioraRozmyte_output', \"VALUE\", 0.125], ['rzekiRozmyte_output', \"VALUE\", 0.125], \n",
    "              ['nmtAspect_output', 'VALUE', 0.125], ['nmtSlope_output', \"VALUE\", 0.125], ['gazociagRozmyty_output', \"VALUE\", 0.125]]\n",
    "rozmyte2 = WeightedSum(WSTable(rozmyteList2))\n",
    "ostre2 = FuzzyOverlay([\"lasy_output\", \"rzekiOstre_output\", \"jezioraOstre_output\", \"gazociagOstry_output\", \"gleba_output\"], \"AND\")\n",
    "wynik2 = arcpy.ia.RasterCalculator([rozmyte2, ostre2], [\"x\", \"y\"], \"x*y\")\n",
    "wynik2.save('wynik_z_rownymi_wagami')"
   ]
  },
  {
   "cell_type": "code",
   "execution_count": 70,
   "metadata": {
    "hidden": true
   },
   "outputs": [],
   "source": [
    "# reklasyfikacja\n",
    "reclass_rozne = arcpy.sa.Reclassify(\"wynik_z_roznymi_wagami\", \"VALUE\", \"0 0,500000 0;0,500000 1 1\", \"DATA\")\n",
    "reclass_rozne.save(\"reclass_rozne\")\n",
    "reclass_rowne = arcpy.sa.Reclassify(\"wynik_z_rownymi_wagami\", \"VALUE\", \"0 0,500000 0;0,500000 1 1\", \"DATA\")\n",
    "reclass_rowne.save(\"reclass_rowne\")"
   ]
  },
  {
   "cell_type": "code",
   "execution_count": 73,
   "metadata": {
    "hidden": true
   },
   "outputs": [
    {
     "data": {
      "text/html": [
       "<div class='gpresult'><h2>Messages</h2><div id='messages' data-messages='[\"Start Time: niedziela, 15 stycznia 2023 18:40:23\",\"Succeeded at niedziela, 15 stycznia 2023 18:40:23 (Elapsed Time: 0,42 seconds)\"]' data-show='true'><div id = 'default' /></div></div>"
      ],
      "text/plain": [
       "<Result 'F:\\\\studia\\\\analizy\\\\MyProject\\\\MyProject.gdb\\\\dzialka_koncowa_rozne'>"
      ]
     },
     "execution_count": 73,
     "metadata": {},
     "output_type": "execute_result"
    }
   ],
   "source": [
    "# RÓŻNE WAGI\n",
    "# raster to polygon\n",
    "arcpy.conversion.RasterToPolygon(\"reclass_rozne\", \"wektor_rozne\", \"NO_SIMPLIFY\", \"Value\", \"SINGLE_OUTER_PART\", None)\n",
    "# select by gridcode\n",
    "newTable_rozne = arcpy.management.SelectLayerByAttribute(\"wektor_rozne\", \"NEW_SELECTION\", \"gridcode = 1\", None)\n",
    "arcpy.analysis.TabulateIntersection(\"dzialki\", \"ID_DZIALKI\", newTable_rozne, \"tabela_dzialki_rozne\", None, None, None, \"UNKNOWN\")\n",
    "arcpy.management.AddJoin(\"dzialki\", \"ID_DZIALKI\", \"tabela_dzialki_rozne\", \"ID_DZIALKI\", \"KEEP_ALL\", \"NO_INDEX_JOIN_FIELDS\")\n",
    "# select by %\n",
    "percent_rozne = arcpy.management.SelectLayerByAttribute(\"dzialki\", \"NEW_SELECTION\", \"PERCENTAGE >= 70\", None)\n",
    "# dissolve\n",
    "arcpy.management.Dissolve(percent_rozne, \"dissolve_rozne\", None, None, \"SINGLE_PART\", \"DISSOLVE_LINES\", '')\n",
    "area_rozne = arcpy.management.SelectLayerByAttribute(\"dissolve_rozne\", \"NEW_SELECTION\",\n",
    "                                                     \"Shape_area > 1000 AND Shape_area < 6000\", None)\n",
    "arcpy.management.CalculateField(area_rozne, \"zwartosc\", \"(!Shape_Area!/(math.pi*(!Shape_Length!/(2*math.pi))**2))**0.5\", \"PYTHON3\", '', \"DOUBLE\", \"NO_ENFORCE_DOMAINS\")\n",
    "arcpy.conversion.ExportFeatures(area_rozne, \"dzialki_pow_rozne\")\n",
    "arcpy.analysis.Select(area_rozne, \"dzialka_koncowa_rozne\", \"zwartosc = (SELECT(MAX(zwartosc)) FROM dzialki_pow_rozne)\")"
   ]
  },
  {
   "cell_type": "code",
   "execution_count": 74,
   "metadata": {
    "hidden": true
   },
   "outputs": [
    {
     "data": {
      "text/html": [
       "<div class='gpresult'><h2>Messages</h2><div id='messages' data-messages='[\"Start Time: niedziela, 15 stycznia 2023 18:52:07\",\"Succeeded at niedziela, 15 stycznia 2023 18:52:08 (Elapsed Time: 0,81 seconds)\"]' data-show='true'><div id = 'default' /></div></div>"
      ],
      "text/plain": [
       "<Result 'F:\\\\studia\\\\analizy\\\\MyProject\\\\MyProject.gdb\\\\dzialka_koncowa_rowne'>"
      ]
     },
     "execution_count": 74,
     "metadata": {},
     "output_type": "execute_result"
    }
   ],
   "source": [
    "# RÓWNE WAGI\n",
    "# raster to polygon\n",
    "arcpy.conversion.RasterToPolygon(\"reclass_rowne\", \"wektor_rowne\", \"NO_SIMPLIFY\", \"Value\", \"SINGLE_OUTER_PART\", None)\n",
    "# select by gridcode\n",
    "newTable_rowne = arcpy.management.SelectLayerByAttribute(\"wektor_rowne\", \"NEW_SELECTION\", \"gridcode = 1\", None)\n",
    "arcpy.analysis.TabulateIntersection(\"dzialki\", \"ID_DZIALKI\", newTable_rowne, \"tabela_dzialki_rowne\", None, None, None, \"UNKNOWN\")\n",
    "arcpy.management.AddJoin(\"dzialki\", \"ID_DZIALKI\", \"tabela_dzialki_rowne\", \"ID_DZIALKI\", \"KEEP_ALL\", \"NO_INDEX_JOIN_FIELDS\")\n",
    "# select by %\n",
    "percent_rowne = arcpy.management.SelectLayerByAttribute(\"dzialki\", \"NEW_SELECTION\", \"PERCENTAGE >= 70\", None)\n",
    "# dissolve\n",
    "arcpy.management.Dissolve(percent_rowne, \"dissolve_rowne\", None, None, \"SINGLE_PART\", \"DISSOLVE_LINES\", '')\n",
    "area_rowne = arcpy.management.SelectLayerByAttribute(\"dissolve_rowne\", \"NEW_SELECTION\",\n",
    "                                                     \"Shape_area > 1000 AND Shape_area < 6000\", None)\n",
    "arcpy.management.CalculateField(area_rowne, \"zwartosc\", \"(!Shape_Area!/(math.pi*(!Shape_Length!/(2*math.pi))**2))**0.5\", \"PYTHON3\", '', \"DOUBLE\", \"NO_ENFORCE_DOMAINS\")\n",
    "arcpy.conversion.ExportFeatures(area_rowne, \"dzialki_pow_rowne\")\n",
    "arcpy.analysis.Select(area_rowne, \"dzialka_koncowa_rowne\", \"zwartosc = (SELECT(MAX(zwartosc)) FROM dzialki_pow_rowne)\")"
   ]
  },
  {
   "cell_type": "code",
   "execution_count": null,
   "metadata": {
    "hidden": true
   },
   "outputs": [],
   "source": []
  },
  {
   "cell_type": "markdown",
   "metadata": {
    "heading_collapsed": true
   },
   "source": [
    "# Przyłącze gazowe"
   ]
  },
  {
   "cell_type": "code",
   "execution_count": 7,
   "metadata": {
    "hidden": true
   },
   "outputs": [],
   "source": [
    "# RÓŻNE WAGI\n",
    "# mapa kosztów i kierunki\n",
    "distance_raster_rozne = arcpy.sa.CostDistance(\"dzialka_koncowa_rozne\", \"mapa_kosztow\", None, \"kierunki_rozne\", None, None, None, None, '')\n",
    "distance_raster_rozne.save(\"mapa_kosztow_rozne\")"
   ]
  },
  {
   "cell_type": "code",
   "execution_count": 77,
   "metadata": {
    "hidden": true
   },
   "outputs": [
    {
     "ename": "ExecuteError",
     "evalue": "Failed to execute. Parameters are not valid.\nERROR 000865: Input cost distance raster: mapa_kosztow_rozne does not exist.\nWARNING 001000: Destination field: Field Id does not exist\nFailed to execute (CostPath).\n",
     "output_type": "error",
     "traceback": [
      "\u001b[0;31m---------------------------------------------------------------------------\u001b[0m\n\u001b[0;31mExecuteError\u001b[0m                              Traceback (most recent call last)",
      "In  \u001b[0;34m[77]\u001b[0m:\nLine \u001b[0;34m3\u001b[0m:     out_raster = arcpy.sa.CostPath(gasPipeline, \u001b[33m\"\u001b[39;49;00m\u001b[33mmapa_kosztow_rozne\u001b[39;49;00m\u001b[33m\"\u001b[39;49;00m, \u001b[33m\"\u001b[39;49;00m\u001b[33mkierunki_rozne\u001b[39;49;00m\u001b[33m\"\u001b[39;49;00m, \u001b[33m\"\u001b[39;49;00m\u001b[33mBEST_SINGLE\u001b[39;49;00m\u001b[33m\"\u001b[39;49;00m, \u001b[33m\"\u001b[39;49;00m\u001b[33mId\u001b[39;49;00m\u001b[33m\"\u001b[39;49;00m, \u001b[33m\"\u001b[39;49;00m\u001b[33mINPUT_RANGE\u001b[39;49;00m\u001b[33m\"\u001b[39;49;00m)\n",
      "File \u001b[0;34mD:\\Programy\\ArcGisPro\\Resources\\ArcPy\\arcpy\\sa\\Functions.py\u001b[0m, in \u001b[0;32mCostPath\u001b[0m:\nLine \u001b[0;34m2366\u001b[0m:  \u001b[34mreturn\u001b[39;49;00m Wrapper(\n",
      "File \u001b[0;34mD:\\Programy\\ArcGisPro\\Resources\\ArcPy\\arcpy\\sa\\Utils.py\u001b[0m, in \u001b[0;32mswapper\u001b[0m:\nLine \u001b[0;34m55\u001b[0m:    result = wrapper(*args, **kwargs)\n",
      "File \u001b[0;34mD:\\Programy\\ArcGisPro\\Resources\\ArcPy\\arcpy\\sa\\Functions.py\u001b[0m, in \u001b[0;32mWrapper\u001b[0m:\nLine \u001b[0;34m2357\u001b[0m:  result = arcpy.gp.CostPath_sa(\n",
      "File \u001b[0;34mD:\\Programy\\ArcGisPro\\Resources\\ArcPy\\arcpy\\geoprocessing\\_base.py\u001b[0m, in \u001b[0;32m<lambda>\u001b[0m:\nLine \u001b[0;34m512\u001b[0m:   \u001b[34mreturn\u001b[39;49;00m \u001b[34mlambda\u001b[39;49;00m *args: val(*gp_fixargs(args, \u001b[34mTrue\u001b[39;49;00m))\n",
      "\u001b[0;31mExecuteError\u001b[0m: Failed to execute. Parameters are not valid.\nERROR 000865: Input cost distance raster: mapa_kosztow_rozne does not exist.\nWARNING 001000: Destination field: Field Id does not exist\nFailed to execute (CostPath).\n\n\u001b[0;31m---------------------------------------------------------------------------\u001b[0m"
     ]
    }
   ],
   "source": [
    "# RÓŻNE WAGI\n",
    "# najlepsze przyłącze\n",
    "out_raster = arcpy.sa.CostPath(gasPipeline, \"mapa_kosztow_rozne\", \"kierunki_rozne\", \"BEST_SINGLE\", \"Id\", \"INPUT_RANGE\")\n",
    "out_raster.save(\"przylacze_rozne_raster\")"
   ]
  },
  {
   "cell_type": "code",
   "execution_count": 78,
   "metadata": {
    "hidden": true
   },
   "outputs": [
    {
     "data": {
      "text/html": [
       "<div class='gpresult'><h2>Messages</h2><div id='messages' data-messages='[\"Start Time: sobota, 14 stycznia 2023 20:34:02\",\"Succeeded at sobota, 14 stycznia 2023 20:34:04 (Elapsed Time: 1,87 seconds)\"]' data-show='true'><div id = 'default' /></div></div>"
      ],
      "text/plain": [
       "<Result 'F:\\\\studia\\\\analizy\\\\MyProject\\\\MyProject.gdb\\\\przylacze_rozne_wektor'>"
      ]
     },
     "execution_count": 78,
     "metadata": {},
     "output_type": "execute_result"
    }
   ],
   "source": [
    "# RÓŻNE WAGI\n",
    "# raster to wektor\n",
    "arcpy.conversion.RasterToPolyline(\"przylacze_rozne_raster\", \"przylacze_rozne_wektor\", \"ZERO\", 0, \"SIMPLIFY\", \"Value\")"
   ]
  },
  {
   "cell_type": "code",
   "execution_count": 78,
   "metadata": {
    "hidden": true
   },
   "outputs": [
    {
     "ename": "ExecuteError",
     "evalue": "ERROR 010658: Failure in distributed raster analytics operation.\nFailed to execute (CostDistance).\n",
     "output_type": "error",
     "traceback": [
      "\u001b[0;31m---------------------------------------------------------------------------\u001b[0m\n\u001b[0;31mExecuteError\u001b[0m                              Traceback (most recent call last)",
      "In  \u001b[0;34m[78]\u001b[0m:\nLine \u001b[0;34m3\u001b[0m:     distance_raster_rowne = arcpy.sa.CostDistance(\u001b[33m\"\u001b[39;49;00m\u001b[33mdzialka_koncowa_rowne\u001b[39;49;00m\u001b[33m\"\u001b[39;49;00m, \u001b[33m\"\u001b[39;49;00m\u001b[33mmapa_kosztow\u001b[39;49;00m\u001b[33m\"\u001b[39;49;00m, \u001b[34mNone\u001b[39;49;00m, \u001b[33m\"\u001b[39;49;00m\u001b[33mkierunki_rowne\u001b[39;49;00m\u001b[33m\"\u001b[39;49;00m, \u001b[34mNone\u001b[39;49;00m, \u001b[34mNone\u001b[39;49;00m, \u001b[34mNone\u001b[39;49;00m, \u001b[34mNone\u001b[39;49;00m, \u001b[33m'\u001b[39;49;00m\u001b[33m'\u001b[39;49;00m)\n",
      "File \u001b[0;34mD:\\Programy\\ArcGisPro\\Resources\\ArcPy\\arcpy\\sa\\Functions.py\u001b[0m, in \u001b[0;32mCostDistance\u001b[0m:\nLine \u001b[0;34m2303\u001b[0m:  \u001b[34mreturn\u001b[39;49;00m Wrapper(\n",
      "File \u001b[0;34mD:\\Programy\\ArcGisPro\\Resources\\ArcPy\\arcpy\\sa\\Utils.py\u001b[0m, in \u001b[0;32mswapper\u001b[0m:\nLine \u001b[0;34m55\u001b[0m:    result = wrapper(*args, **kwargs)\n",
      "File \u001b[0;34mD:\\Programy\\ArcGisPro\\Resources\\ArcPy\\arcpy\\sa\\Functions.py\u001b[0m, in \u001b[0;32mWrapper\u001b[0m:\nLine \u001b[0;34m2291\u001b[0m:  result = arcpy.gp.CostDistance_sa(\n",
      "File \u001b[0;34mD:\\Programy\\ArcGisPro\\Resources\\ArcPy\\arcpy\\geoprocessing\\_base.py\u001b[0m, in \u001b[0;32m<lambda>\u001b[0m:\nLine \u001b[0;34m512\u001b[0m:   \u001b[34mreturn\u001b[39;49;00m \u001b[34mlambda\u001b[39;49;00m *args: val(*gp_fixargs(args, \u001b[34mTrue\u001b[39;49;00m))\n",
      "\u001b[0;31mExecuteError\u001b[0m: ERROR 010658: Failure in distributed raster analytics operation.\nFailed to execute (CostDistance).\n\n\u001b[0;31m---------------------------------------------------------------------------\u001b[0m"
     ]
    }
   ],
   "source": [
    "# RÓWNE WAGI\n",
    "# mapa kosztów i kierunki\n",
    "distance_raster_rowne = arcpy.sa.CostDistance(\"dzialka_koncowa_rowne\", \"mapa_kosztow\", None, \"kierunki_rowne\", None, None, None, None, '')\n",
    "distance_raster_rowne.save(\"mapa_kosztow_rowne\")\n",
    "# najlepsze przyłącze\n",
    "out_raster_rowne = arcpy.sa.CostPath(gasPipeline, distance_raster_rowne, \"kierunki_rowne\", \"BEST_SINGLE\", \"Id\", \"INPUT_RANGE\")\n",
    "out_raster_rowne.save(\"przylacze_rowne_raster\")\n",
    "# raster to wektor\n",
    "arcpy.conversion.RasterToPolyline(\"przylacze_rowne_raster\", \"przylacze_rowne_wektor\", \"ZERO\", 0, \"NO_SIMPLIFY\", \"Value\")"
   ]
  },
  {
   "cell_type": "code",
   "execution_count": null,
   "metadata": {
    "hidden": true
   },
   "outputs": [],
   "source": []
  }
 ],
 "metadata": {
  "kernelspec": {
   "display_name": "ArcGISPro",
   "language": "Python",
   "name": "python3"
  },
  "language_info": {
   "file_extension": ".py",
   "name": "python",
   "version": "3"
  }
 },
 "nbformat": 4,
 "nbformat_minor": 2
}
